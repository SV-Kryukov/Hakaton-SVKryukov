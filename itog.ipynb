{
 "cells": [
  {
   "cell_type": "code",
   "execution_count": null,
   "id": "8c12a66f",
   "metadata": {},
   "outputs": [],
   "source": [
    "# Импортируем библиотеки\n",
    "import os\n",
    "from pdfminer.high_level import extract_text\n",
    "import re\n",
    "import PyPDF2\n",
    "import pandas as pd\n",
    "from collections import Counter"
   ]
  },
  {
   "cell_type": "code",
   "execution_count": null,
   "id": "5b7cd851",
   "metadata": {
    "scrolled": true
   },
   "outputs": [],
   "source": [
    "#Функция которая создает список файлов в папке\n",
    "def get_files_in_folder(folder_path):\n",
    "    file_list = []\n",
    "    for root, dirs, files in os.walk(folder_path):\n",
    "        for file in files:\n",
    "            file_list.append(os.path.join(root, file))\n",
    "    return file_list"
   ]
  },
  {
   "cell_type": "code",
   "execution_count": null,
   "id": "791ad1b2",
   "metadata": {},
   "outputs": [],
   "source": [
    "# В этом примере мы определяем функцию process_text, которая принимает текст как входной параметр. Сначала мы заменяем все абзацы (обозначенные символом \\n) на пробелы, используя метод replace. Затем мы используем регулярное выражение r'\\s+' для замены последовательностей из одного или более пробелов на одиночные пробелы с помощью функции re.sub.\n",
    "def process_text(text):\n",
    "    # Замена абзацев на пробелы\n",
    "    text = text.replace('\\n', ' ')\n",
    "    \n",
    "    # Удаление лишних пробелов\n",
    "    text = re.sub(r'\\s+', ' ', text)\n",
    "    \n",
    "    return text\n",
    "# Применяем функцию к извлеченному тексту из pdf"
   ]
  },
  {
   "cell_type": "code",
   "execution_count": null,
   "id": "64b0ceca",
   "metadata": {},
   "outputs": [],
   "source": [
    "# Функция сохранения переменной в txt\n",
    "def save_to_file(text, file_path):\n",
    "    with open(file_path, 'w') as file:\n",
    "        file.write(text)\n",
    "\n",
    "# Пример использования функции\n",
    "#text = text_redact\n",
    "#file_path = \"13. Культурное наследие.00027-21_СКЭ-25982.txt\"\n",
    "\n"
   ]
  },
  {
   "cell_type": "code",
   "execution_count": null,
   "id": "cc36d82e",
   "metadata": {},
   "outputs": [],
   "source": [
    "# Функция для поиска в переменной\n",
    "def find_phrase(text, phrase):\n",
    "    # Применение регистронезависимого поиска\n",
    "    pattern = re.compile(re.escape(phrase), re.IGNORECASE)\n",
    "\n",
    "    # Поиск совпадений в тексте\n",
    "    matches = re.findall(pattern, text)\n",
    "\n",
    "    return matches"
   ]
  },
  {
   "cell_type": "code",
   "execution_count": null,
   "id": "f7d35483",
   "metadata": {},
   "outputs": [],
   "source": [
    "#Создаем список файлов\n",
    "files = get_files_in_folder('paper1')"
   ]
  },
  {
   "cell_type": "code",
   "execution_count": null,
   "id": "7ef6ce12",
   "metadata": {},
   "outputs": [],
   "source": [
    "files"
   ]
  },
  {
   "cell_type": "code",
   "execution_count": null,
   "id": "9c00aa1c",
   "metadata": {},
   "outputs": [],
   "source": [
    "# Путь к PDF-файлу\n",
    "pdf_path = 'paper1/Раздел ПД №1_Том 1_51-ПЗ.00027-21_СКЭ-25982.pdf'\n",
    "file_path =  'paper1/Раздел ПД №1_Том 1_51-ПЗ.00027-21_СКЭ-25982.txt'\n",
    "# Извлечение текста из PDF и сохранение в переменную\n",
    "text_pdf = extract_text(pdf_path)\n",
    "# Редактирование текста\n",
    "text_redact = process_text(text_pdf)\n",
    "# Сохранение в файл txt\n",
    "save_to_file(text_redact, file_path)\n",
    "print('Файл ', pdf_path, 'Сохранен ', file_path)"
   ]
  },
  {
   "cell_type": "code",
   "execution_count": null,
   "id": "3394e680",
   "metadata": {},
   "outputs": [],
   "source": [
    "phrase = 'Проектная документация' # Фраза для поиска\n",
    "matches = find_phrase(text_redact, phrase) # Сохранение в список\n",
    "print('Совпадений в переменной', len(matches) )"
   ]
  },
  {
   "cell_type": "code",
   "execution_count": null,
   "id": "b8783c52",
   "metadata": {},
   "outputs": [],
   "source": [
    "# Функция для поиска из списка\n",
    "def find_phrase(content, phrases):\n",
    "    matches = []\n",
    "    lines = content.split('\\n')\n",
    "    for line in lines:\n",
    "        for phrase in phrases:\n",
    "            if phrase in line:\n",
    "                matches.append(line)\n",
    "                break\n",
    "    return matches"
   ]
  },
  {
   "cell_type": "code",
   "execution_count": null,
   "id": "033912e6",
   "metadata": {},
   "outputs": [],
   "source": [
    "filename = file_path\n",
    "phrases = ('Капитальный ремонт', 'Текст', 'Проектная документация', 'с') # Фразы для поиска\n",
    "\n",
    "with open(filename, 'r') as file:\n",
    "    content = file.read()\n",
    "\n",
    "matches = find_phrase(content, phrases) # Сохранение в список\n",
    "data = {phrase: len(matches) for phrase in phrases}\n",
    "df_result = pd.DataFrame(data, index=[0])  # Указываем индекс [0]"
   ]
  },
  {
   "cell_type": "code",
   "execution_count": null,
   "id": "11287589",
   "metadata": {},
   "outputs": [],
   "source": [
    "df_result"
   ]
  },
  {
   "cell_type": "code",
   "execution_count": null,
   "id": "b6bd5153",
   "metadata": {},
   "outputs": [],
   "source": [
    "re.findall(r'\\w+', content.lower())"
   ]
  },
  {
   "cell_type": "code",
   "execution_count": null,
   "id": "bd84ab7d",
   "metadata": {},
   "outputs": [],
   "source": [
    "import re\n",
    "import pandas as pd\n",
    "\n",
    "def find_most_common_words(content, num_words):\n",
    "    words = re.findall(r'\\w+', content.lower())\n",
    "    word_counts = Counter(words)\n",
    "    most_common_words = word_counts.most_common(num_words)\n",
    "    return most_common_words\n",
    "\n",
    "filename = 'DF2.txt'\n",
    "num_words = 10  # Количество наиболее часто встречающихся слов для отображения\n",
    "\n",
    "with open(filename, 'r') as file:\n",
    "    content = file.read()\n",
    "\n",
    "most_common_words = find_most_common_words(content, num_words)\n",
    "\n",
    "df_result = pd.DataFrame(most_common_words, columns=['Word', 'Count'])\n",
    "\n",
    "print(df_result)\n"
   ]
  },
  {
   "cell_type": "code",
   "execution_count": null,
   "id": "99429ca5",
   "metadata": {
    "scrolled": true
   },
   "outputs": [],
   "source": [
    "filename = file_path\n",
    "\n",
    "with open(filename, 'r') as file:\n",
    "    content = file.read()\n",
    "\n",
    "words = re.findall(r'\\w+', content.lower())\n",
    "word_counts = Counter(words)\n",
    "df = pd.DataFrame.from_dict(word_counts, orient='index', columns=['Count'])"
   ]
  },
  {
   "cell_type": "code",
   "execution_count": null,
   "id": "26e36150",
   "metadata": {},
   "outputs": [],
   "source": [
    "df.sort_values(by='Count', ascending=False)"
   ]
  },
  {
   "cell_type": "code",
   "execution_count": null,
   "id": "f441597f",
   "metadata": {},
   "outputs": [],
   "source": [
    "df_result.Word Count"
   ]
  },
  {
   "cell_type": "code",
   "execution_count": null,
   "id": "3f0d0c25",
   "metadata": {},
   "outputs": [],
   "source": [
    "df_result.reset_index(inplace=True)\n",
    "df_result.columns"
   ]
  },
  {
   "cell_type": "code",
   "execution_count": null,
   "id": "ff3c5be2",
   "metadata": {},
   "outputs": [],
   "source": [
    "df_result['O']"
   ]
  },
  {
   "cell_type": "code",
   "execution_count": 1,
   "id": "6011f588",
   "metadata": {},
   "outputs": [
    {
     "name": "stdout",
     "output_type": "stream",
     "text": [
      "[]\n"
     ]
    }
   ],
   "source": [
    "import re\n",
    "\n",
    "phrase = \"капитальный ремонт но не соответствует точно этой фразе\"\n",
    "\n",
    "pattern = re.escape(phrase) + r\".*\"  # Добавляем .* для поиска фразы и любых символов после нее\n",
    "\n",
    "text = \"Это предложение содержит капитальный ремонт, но не соответствует точно этой фразе.\"\n",
    "\n",
    "matches = re.findall(pattern, text, re.IGNORECASE)\n",
    "\n",
    "print(matches)"
   ]
  },
  {
   "cell_type": "code",
   "execution_count": null,
   "id": "fac1e56c",
   "metadata": {},
   "outputs": [],
   "source": []
  }
 ],
 "metadata": {
  "kernelspec": {
   "display_name": "Python 3 (ipykernel)",
   "language": "python",
   "name": "python3"
  },
  "language_info": {
   "codemirror_mode": {
    "name": "ipython",
    "version": 3
   },
   "file_extension": ".py",
   "mimetype": "text/x-python",
   "name": "python",
   "nbconvert_exporter": "python",
   "pygments_lexer": "ipython3",
   "version": "3.10.6"
  },
  "toc": {
   "base_numbering": 1,
   "nav_menu": {},
   "number_sections": true,
   "sideBar": true,
   "skip_h1_title": false,
   "title_cell": "Table of Contents",
   "title_sidebar": "Contents",
   "toc_cell": false,
   "toc_position": {},
   "toc_section_display": true,
   "toc_window_display": false
  }
 },
 "nbformat": 4,
 "nbformat_minor": 5
}
